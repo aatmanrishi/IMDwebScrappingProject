{
 "cells": [
  {
   "cell_type": "code",
   "execution_count": 120,
   "metadata": {},
   "outputs": [],
   "source": [
    "from bs4 import BeautifulSoup\n",
    "import requests\n",
    "import openpyxl"
   ]
  },
  {
   "cell_type": "code",
   "execution_count": 121,
   "metadata": {},
   "outputs": [
    {
     "name": "stdout",
     "output_type": "stream",
     "text": [
      "['Sheet']\n"
     ]
    }
   ],
   "source": [
    "excel = openpyxl.Workbook();\n",
    "print(excel.sheetnames);\n",
    "sheet = excel.active;\n",
    "sheet.title = 'Top Rate Movies'\n",
    "sheet.append(['Movie Rank','Movie Name','Year Of Realease','Total Views','IMDB Rating '])"
   ]
  },
  {
   "cell_type": "code",
   "execution_count": 122,
   "metadata": {},
   "outputs": [],
   "source": [
    "try:\n",
    "    headers = {\n",
    "    'User-Agent': 'Mozilla/5.0 (Windows NT 10.0; Win64; x64) AppleWebKit/537.36 (KHTML, like Gecko) Chrome/58.0.3029.110 Safari/537.36'\n",
    "     }\n",
    "    source = requests.get('https://www.imdb.com/chart/top',headers=headers);\n",
    "    source.raise_for_status(); #Always try to use raise for status when ever you are using request.get to raise else you would not be able to capture an error ; \n",
    "    soup = BeautifulSoup(source.text,'html.parser')\n",
    "    movies = soup.find_all('li',class_='ipc-metadata-list-summary-item');\n",
    "    for movie in movies : \n",
    "        name = movie.find('div',class_='sc-4dcdad14-0').a.text.split('.')[1]\n",
    "        rank = movie.find('div',class_='sc-4dcdad14-0').a.text.split('.')[0]\n",
    "        year = movie.find('div',class_='sc-4dcdad14-0').span.text\n",
    "        rating = movie.find('span',class_='ipc-rating-star').text[0:3]\n",
    "        views = movie.find('span',class_='ipc-rating-star').text.split('(')[1].strip(')')\n",
    "        sheet.append([rank,name,year,views,rating]);\n",
    "except Exception as e:\n",
    "    print(e);"
   ]
  },
  {
   "cell_type": "code",
   "execution_count": null,
   "metadata": {},
   "outputs": [],
   "source": [
    "excel.save('IMDB Movies Ratings.xlsx ');"
   ]
  }
 ],
 "metadata": {
  "kernelspec": {
   "display_name": "Python 3",
   "language": "python",
   "name": "python3"
  },
  "language_info": {
   "codemirror_mode": {
    "name": "ipython",
    "version": 3
   },
   "file_extension": ".py",
   "mimetype": "text/x-python",
   "name": "python",
   "nbconvert_exporter": "python",
   "pygments_lexer": "ipython3",
   "version": "3.11.3"
  },
  "orig_nbformat": 4
 },
 "nbformat": 4,
 "nbformat_minor": 2
}
